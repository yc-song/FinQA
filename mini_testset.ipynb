{
 "cells": [
  {
   "cell_type": "code",
   "execution_count": 1,
   "id": "cfab42e4",
   "metadata": {},
   "outputs": [],
   "source": [
    "import pandas as pd\n",
    "import json"
   ]
  },
  {
   "cell_type": "code",
   "execution_count": 2,
   "id": "7736bb5a",
   "metadata": {},
   "outputs": [],
   "source": [
    "with open('original_dataset/train.json') as file_1:\n",
    "    data = json.load(file_1)"
   ]
  },
  {
   "cell_type": "code",
   "execution_count": 96,
   "id": "c9af9c31",
   "metadata": {},
   "outputs": [],
   "source": [
    "def problem_display(D:dict):\n",
    "    pre_text = ' '.join(D['pre_text'])\n",
    "    post_text = ' '.join(D['post_text'])\n",
    "    table = pd.DataFrame(D['table'])\n",
    "    \n",
    "    question = D['qa']['question']\n",
    "    gold_answer = D['qa']['program']\n",
    "    \n",
    "    print(pre_text)\n",
    "    print('')\n",
    "    print(table)\n",
    "    print('')\n",
    "    print(post_text)\n",
    "    print('')\n",
    "    print(\"Question: \", question)\n",
    "    print(\"Correct Answer: \", gold_answer)"
   ]
  },
  {
   "cell_type": "code",
   "execution_count": 97,
   "id": "e254d581",
   "metadata": {
    "scrolled": true
   },
   "outputs": [
    {
     "name": "stdout",
     "output_type": "stream",
     "text": [
      "the following table shows annual aircraft fuel consumption and costs , including taxes , for our mainline and regional operations for 2018 , 2017 and 2016 ( gallons and aircraft fuel expense in millions ) . year gallons average price per gallon aircraft fuel expense percent of total operating expenses .\n",
      "\n",
      "      0        1                        2                     3  \\\n",
      "0  year  gallons  average priceper gallon  aircraft fuelexpense   \n",
      "1  2018     4447                   $ 2.23                $ 9896   \n",
      "2  2017     4352                     1.73                  7510   \n",
      "3  2016     4347                     1.42                  6180   \n",
      "\n",
      "                                    4  \n",
      "0  percent of totaloperating expenses  \n",
      "1                    23.6% ( 23.6 % )  \n",
      "2                    19.6% ( 19.6 % )  \n",
      "3                    17.6% ( 17.6 % )  \n",
      "\n",
      "as of december 31 , 2018 , we did not have any fuel hedging contracts outstanding to hedge our fuel consumption . as such , and assuming we do not enter into any future transactions to hedge our fuel consumption , we will continue to be fully exposed to fluctuations in fuel prices . our current policy is not to enter into transactions to hedge our fuel consumption , although we review that policy from time to time based on market conditions and other factors . fuel prices have fluctuated substantially over the past several years . we cannot predict the future availability , price volatility or cost of aircraft fuel . natural disasters ( including hurricanes or similar events in the u.s . southeast and on the gulf coast where a significant portion of domestic refining capacity is located ) , political disruptions or wars involving oil-producing countries , economic sanctions imposed against oil-producing countries or specific industry participants , changes in fuel-related governmental policy , the strength of the u.s . dollar against foreign currencies , changes in the cost to transport or store petroleum products , changes in access to petroleum product pipelines and terminals , speculation in the energy futures markets , changes in aircraft fuel production capacity , environmental concerns and other unpredictable events may result in fuel supply shortages , distribution challenges , additional fuel price volatility and cost increases in the future . see part i , item 1a . risk factors 2013 201cour business is very dependent on the price and availability of aircraft fuel . continued periods of high volatility in fuel costs , increased fuel prices or significant disruptions in the supply of aircraft fuel could have a significant negative impact on our operating results and liquidity . 201d seasonality and other factors due to the greater demand for air travel during the summer months , revenues in the airline industry in the second and third quarters of the year tend to be greater than revenues in the first and fourth quarters of the year . general economic conditions , fears of terrorism or war , fare initiatives , fluctuations in fuel prices , labor actions , weather , natural disasters , outbreaks of disease and other factors could impact this seasonal pattern . therefore , our quarterly results of operations are not necessarily indicative of operating results for the entire year , and historical operating results in a quarterly or annual period are not necessarily indicative of future operating results . domestic and global regulatory landscape general airlines are subject to extensive domestic and international regulatory requirements . domestically , the dot and the federal aviation administration ( faa ) exercise significant regulatory authority over air carriers . the dot , among other things , oversees domestic and international codeshare agreements , international route authorities , competition and consumer protection matters such as advertising , denied boarding compensation and baggage liability . the antitrust division of the department of justice ( doj ) , along with the dot in certain instances , have jurisdiction over airline antitrust matters. .\n",
      "\n",
      "Question:  what was the total operating expenses in 2018 in millions\n",
      "Correct Answer:  divide(9896, 23.6%)\n"
     ]
    }
   ],
   "source": [
    "problem_display(data[0])"
   ]
  }
 ],
 "metadata": {
  "kernelspec": {
   "display_name": "Python 3 (ipykernel)",
   "language": "python",
   "name": "python3"
  },
  "language_info": {
   "codemirror_mode": {
    "name": "ipython",
    "version": 3
   },
   "file_extension": ".py",
   "mimetype": "text/x-python",
   "name": "python",
   "nbconvert_exporter": "python",
   "pygments_lexer": "ipython3",
   "version": "3.9.13"
  }
 },
 "nbformat": 4,
 "nbformat_minor": 5
}
